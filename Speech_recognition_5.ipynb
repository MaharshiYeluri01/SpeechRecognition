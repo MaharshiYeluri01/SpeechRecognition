{
  "nbformat": 4,
  "nbformat_minor": 0,
  "metadata": {
    "colab": {
      "name": "Speech_recognition_5.ipynb",
      "version": "0.3.2",
      "provenance": [],
      "collapsed_sections": [],
      "include_colab_link": true
    },
    "kernelspec": {
      "name": "python3",
      "display_name": "Python 3"
    }
  },
  "cells": [
    {
      "cell_type": "markdown",
      "metadata": {
        "id": "view-in-github",
        "colab_type": "text"
      },
      "source": [
        "<a href=\"https://colab.research.google.com/github/MaharshiYeluri01/SpeechRecognition/blob/master/Speech_recognition_5.ipynb\" target=\"_parent\"><img src=\"https://colab.research.google.com/assets/colab-badge.svg\" alt=\"Open In Colab\"/></a>"
      ]
    },
    {
      "metadata": {
        "id": "3HatCE6Iuox7",
        "colab_type": "code",
        "colab": {
          "base_uri": "https://localhost:8080/",
          "height": 34
        },
        "outputId": "a22f258b-6624-41c2-b7ba-7b55a0d7bb15"
      },
      "cell_type": "code",
      "source": [
        "from google.colab import drive\n",
        "drive.mount('/content/drive')"
      ],
      "execution_count": 1,
      "outputs": [
        {
          "output_type": "stream",
          "text": [
            "Mounted at /content/drive\n"
          ],
          "name": "stdout"
        }
      ]
    },
    {
      "metadata": {
        "id": "KvQRtoKQviQy",
        "colab_type": "code",
        "colab": {}
      },
      "cell_type": "code",
      "source": [
        "import zipfile\n",
        "zip_ref = zipfile.ZipFile(\"./drive/My Drive/hmm-speech-recognition-0.1.zip\", 'r')\n",
        "zip_ref.extractall()\n",
        "zip_ref.close()"
      ],
      "execution_count": 0,
      "outputs": []
    },
    {
      "metadata": {
        "id": "ITSHTtXMw4ox",
        "colab_type": "code",
        "colab": {}
      },
      "cell_type": "code",
      "source": [
        "!pip install hmmlearn\n",
        "!pip install features"
      ],
      "execution_count": 0,
      "outputs": []
    },
    {
      "metadata": {
        "id": "Q3XyPUU_0Mdl",
        "colab_type": "code",
        "colab": {}
      },
      "cell_type": "code",
      "source": [
        "!pip install librosa"
      ],
      "execution_count": 0,
      "outputs": []
    },
    {
      "metadata": {
        "id": "yFsAl3qlwWSU",
        "colab_type": "code",
        "colab": {}
      },
      "cell_type": "code",
      "source": [
        "import os\n",
        "import argparse \n",
        "\n",
        "import numpy as np\n",
        "from scipy.io import wavfile \n",
        "from hmmlearn import hmm\n",
        "import librosa\n"
      ],
      "execution_count": 0,
      "outputs": []
    },
    {
      "metadata": {
        "id": "zrdGiZYT0pto",
        "colab_type": "code",
        "colab": {}
      },
      "cell_type": "code",
      "source": [
        "from librosa.feature import mfcc"
      ],
      "execution_count": 0,
      "outputs": []
    },
    {
      "metadata": {
        "id": "qCA0TiHqwpra",
        "colab_type": "code",
        "colab": {}
      },
      "cell_type": "code",
      "source": [
        "class HMMTrainer(object):\n",
        "    def __init__(self, model_name='GaussianHMM', n_components=4, cov_type='diag', n_iter=1000):\n",
        "        self.model_name = model_name\n",
        "        self.n_components = n_components\n",
        "        self.cov_type = cov_type\n",
        "        self.n_iter = n_iter\n",
        "        self.models = []\n",
        "\n",
        "        if self.model_name == 'GaussianHMM':\n",
        "            self.model = hmm.GaussianHMM(n_components=self.n_components, \n",
        "                    covariance_type=self.cov_type, n_iter=self.n_iter)\n",
        "        else:\n",
        "            raise TypeError('Invalid model type')\n",
        "\n",
        "    # X is a 2D numpy array where each row is 13D\n",
        "    def train(self, X):\n",
        "        np.seterr(all='ignore')\n",
        "        self.models.append(self.model.fit(X))\n",
        "\n",
        "    # Run the model on input data\n",
        "    def get_score(self, input_data):\n",
        "        return self.model.score(input_data)"
      ],
      "execution_count": 0,
      "outputs": []
    },
    {
      "metadata": {
        "id": "jveeEaD3wzCb",
        "colab_type": "code",
        "colab": {}
      },
      "cell_type": "code",
      "source": [
        "input_folder='./hmm-speech-recognition-0.1/audio'"
      ],
      "execution_count": 0,
      "outputs": []
    },
    {
      "metadata": {
        "id": "B_P8yTPOx2Jx",
        "colab_type": "code",
        "colab": {
          "base_uri": "https://localhost:8080/",
          "height": 34
        },
        "outputId": "acf9b95b-ff79-43af-983c-8e4b0cfb3c0b"
      },
      "cell_type": "code",
      "source": [
        " os.listdir(input_folder)"
      ],
      "execution_count": 10,
      "outputs": [
        {
          "output_type": "execute_result",
          "data": {
            "text/plain": [
              "['lime', 'orange', 'peach', 'kiwi', 'apple', 'pineapple', 'banana']"
            ]
          },
          "metadata": {
            "tags": []
          },
          "execution_count": 10
        }
      ]
    },
    {
      "metadata": {
        "id": "jvb9BCkkx8T0",
        "colab_type": "code",
        "colab": {
          "base_uri": "https://localhost:8080/",
          "height": 136
        },
        "outputId": "934216ab-7f06-4500-dda9-76ae2606892e"
      },
      "cell_type": "code",
      "source": [
        "for dirname in os.listdir(input_folder):\n",
        "        # Get the name of the subfolder \n",
        "      subfolder = os.path.join(input_folder, dirname)\n",
        "      #print(subfolder)\n",
        "      label = subfolder[subfolder.rfind('/') + 1:]\n",
        "      print(label)"
      ],
      "execution_count": 13,
      "outputs": [
        {
          "output_type": "stream",
          "text": [
            "lime\n",
            "orange\n",
            "peach\n",
            "kiwi\n",
            "apple\n",
            "pineapple\n",
            "banana\n"
          ],
          "name": "stdout"
        }
      ]
    },
    {
      "metadata": {
        "id": "MId89cDryL-b",
        "colab_type": "code",
        "colab": {
          "base_uri": "https://localhost:8080/",
          "height": 340
        },
        "outputId": "ed3c9a69-034c-4783-c86e-60e2b7c5c18b"
      },
      "cell_type": "code",
      "source": [
        "if __name__=='__main__':\n",
        "  hmm_models = []\n",
        "    for dirname in os.listdir(input_folder):\n",
        "        # Get the name of the subfolder \n",
        "        subfolder = os.path.join(input_folder, dirname)\n",
        "        if not os.path.isdir(subfolder): \n",
        "            continue\n",
        "        # Extract the label\n",
        "        label = subfolder[subfolder.rfind('/') + 1:]\n",
        "\n",
        "        # Initialize variables\n",
        "        X = np.array([])\n",
        "        y_words = []\n",
        "        # Iterate through the audio files (leaving 1 file for testing in each class)\n",
        "        for filename in [x for x in os.listdir(subfolder) if x.endswith('.wav')][:-1]:\n",
        "            # Read the input file\n",
        "            filepath = os.path.join(subfolder, filename)\n",
        "            sampling_freq, audio = librosa.load(filepath)            \n",
        "            # Extract MFCC features\n",
        "            mfcc_features = mfcc(sampling_freq, audio)\n",
        "            # Append to the variable X\n",
        "            if len(X) == 0:\n",
        "                X = mfcc_features[:,:15]\n",
        "            else:\n",
        "                X = np.append(X, mfcc_features[:,:15], axis=0)            \n",
        "            # Append the label\n",
        "            y_words.append(label)\n",
        "        print('X.shape =', X.shape)\n",
        "        # Train and save HMM model\n",
        "        hmm_trainer = HMMTrainer()\n",
        "        hmm_trainer.train(X)\n",
        "        hmm_models.append((hmm_trainer, label))\n",
        "        hmm_trainer = None\n",
        "\n",
        "    # Test files\n",
        "    input_files = [\n",
        "            './hmm-speech-recognition-0.1/audio/pineapple/pineapple15.wav',\n",
        "            './hmm-speech-recognition-0.1/audio/orange/orange15.wav',\n",
        "            './hmm-speech-recognition-0.1/audio/apple/apple15.wav',\n",
        "            './hmm-speech-recognition-0.1/audio/kiwi/kiwi15.wav'\n",
        "            ]\n",
        "\n",
        "    for input_file in input_files:\n",
        "        sampling_freq, audio = librosa.load(input_file)\n",
        "\n",
        "        # Extract MFCC features\n",
        "        mfcc_features = mfcc(sampling_freq, audio)\n",
        "        mfcc_features=mfcc_features[:,:15]\n",
        "\n",
        "        scores=[]\n",
        "        for item in hmm_models:\n",
        "            hmm_model, label = item\n",
        "            \n",
        "            score = hmm_model.get_score(mfcc_features)\n",
        "            scores.append(score)\n",
        "        index=np.array(scores).argmax()\n",
        "        print(\"\\nTrue:\", input_file[input_file.find('/')+1:input_file.rfind('/')])\n",
        "        print(\"Predicted:\", hmm_models[index][1]) \n",
        "\n"
      ],
      "execution_count": 59,
      "outputs": [
        {
          "output_type": "stream",
          "text": [
            "X.shape = (280, 15)\n",
            "X.shape = (280, 15)\n",
            "X.shape = (280, 15)\n",
            "X.shape = (280, 15)\n",
            "X.shape = (280, 15)\n",
            "X.shape = (280, 15)\n",
            "X.shape = (280, 15)\n",
            "\n",
            "True: hmm-speech-recognition-0.1/audio/pineapple\n",
            "Predicted: pineapple\n",
            "\n",
            "True: hmm-speech-recognition-0.1/audio/orange\n",
            "Predicted: orange\n",
            "\n",
            "True: hmm-speech-recognition-0.1/audio/apple\n",
            "Predicted: apple\n",
            "\n",
            "True: hmm-speech-recognition-0.1/audio/kiwi\n",
            "Predicted: kiwi\n"
          ],
          "name": "stdout"
        }
      ]
    },
    {
      "metadata": {
        "id": "cYlkBmbm5tS3",
        "colab_type": "code",
        "colab": {}
      },
      "cell_type": "code",
      "source": [
        ""
      ],
      "execution_count": 0,
      "outputs": []
    }
  ]
}